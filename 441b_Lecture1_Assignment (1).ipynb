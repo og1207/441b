{
  "nbformat": 4,
  "nbformat_minor": 0,
  "metadata": {
    "colab": {
      "provenance": []
    },
    "kernelspec": {
      "name": "python3",
      "display_name": "Python 3"
    },
    "language_info": {
      "name": "python"
    }
  },
  "cells": [
    {
      "cell_type": "code",
      "execution_count": 1,
      "metadata": {
        "colab": {
          "base_uri": "https://localhost:8080/"
        },
        "id": "RDcvvWBBA0qH",
        "outputId": "00d32cd2-f91c-45b9-f0d6-540e9f7fa897"
      },
      "outputs": [
        {
          "output_type": "stream",
          "name": "stdout",
          "text": [
            "/root\n"
          ]
        }
      ],
      "source": [
        "cd"
      ]
    },
    {
      "cell_type": "code",
      "source": [
        "# pull data from google drive which creates a folder called MyDrive"
      ],
      "metadata": {
        "id": "NHB3Yo_DC1Xr"
      },
      "execution_count": null,
      "outputs": []
    },
    {
      "cell_type": "code",
      "source": [
        "from google.colab import drive\n",
        "drive.mount('/content/gdrive/', force_remount=True)"
      ],
      "metadata": {
        "colab": {
          "base_uri": "https://localhost:8080/"
        },
        "id": "qXomMWz6C4X3",
        "outputId": "a545f792-3845-4efb-e7dd-2d39ca3f96c7"
      },
      "execution_count": 2,
      "outputs": [
        {
          "output_type": "stream",
          "name": "stdout",
          "text": [
            "Mounted at /content/gdrive/\n"
          ]
        }
      ]
    },
    {
      "cell_type": "code",
      "source": [
        "#Query Data\n",
        "import pandas as pd\n"
      ],
      "metadata": {
        "id": "HadGX7UaEZ5a"
      },
      "execution_count": 5,
      "outputs": []
    },
    {
      "cell_type": "code",
      "source": [
        "data = pd.read_csv(\"/content/gdrive/MyDrive/ECON441b/CPS.csv\")"
      ],
      "metadata": {
        "id": "GvwQkhA-Fpub"
      },
      "execution_count": 6,
      "outputs": []
    },
    {
      "cell_type": "code",
      "source": [
        "data.describe()"
      ],
      "metadata": {
        "colab": {
          "base_uri": "https://localhost:8080/",
          "height": 394
        },
        "id": "u7VEfX4vFvGf",
        "outputId": "5ff74b31-b012-48ad-dbd1-2823f4c8d261"
      },
      "execution_count": 7,
      "outputs": [
        {
          "output_type": "execute_result",
          "data": {
            "text/plain": [
              "         Unnamed: 0          wage           lnw       widowed      divorced  \\\n",
              "count  32523.000000  32523.000000  32523.000000  32523.000000  32523.000000   \n",
              "mean   16324.029671     29.139379      3.155199      0.012545      0.118070   \n",
              "std     9421.599484     28.219485      0.619090      0.111301      0.322696   \n",
              "min        1.000000      3.021978      1.105912      0.000000      0.000000   \n",
              "25%     8167.500000     15.384615      2.733368      0.000000      0.000000   \n",
              "50%    16326.000000     23.076923      3.138833      0.000000      0.000000   \n",
              "75%    24479.500000     34.446211      3.539399      0.000000      0.000000   \n",
              "max    32643.000000    615.384135      6.422247      1.000000      1.000000   \n",
              "\n",
              "          separated  nevermarried       married        weight        female  \\\n",
              "count  32523.000000  32523.000000  32523.000000  32523.000000  32523.000000   \n",
              "mean       0.015866      0.158349      0.695170   1662.696850      0.442333   \n",
              "std        0.124958      0.365074      0.460343   1068.982218      0.496671   \n",
              "min        0.000000      0.000000      0.000000     52.510000      0.000000   \n",
              "25%        0.000000      0.000000      0.000000    735.970000      0.000000   \n",
              "50%        0.000000      0.000000      1.000000   1596.120000      0.000000   \n",
              "75%        0.000000      0.000000      1.000000   2269.880000      1.000000   \n",
              "max        1.000000      1.000000      1.000000  10500.700000      1.000000   \n",
              "\n",
              "       ...            we            ne          exp1          exp2  \\\n",
              "count  ...  32523.000000  32523.000000  32523.000000  32523.000000   \n",
              "mean   ...      0.217723      0.194047     21.210805      5.692379   \n",
              "std    ...      0.412704      0.395472     10.924437      4.835041   \n",
              "min    ...      0.000000      0.000000      0.000000      0.000000   \n",
              "25%    ...      0.000000      0.000000     12.000000      1.440000   \n",
              "50%    ...      0.000000      0.000000     21.000000      4.410000   \n",
              "75%    ...      0.000000      0.000000     30.000000      9.000000   \n",
              "max    ...      1.000000      1.000000     49.500000     24.502500   \n",
              "\n",
              "               exp3          exp4            occ          occ2            ind  \\\n",
              "count  32523.000000  32523.000000   32523.000000  32523.000000   32523.000000   \n",
              "mean      17.194977     55.780077    4807.881807     11.191280    6424.262430   \n",
              "std       19.333399     76.592007   10378.185428      7.176616    5018.066136   \n",
              "min        0.000000      0.000000      10.000000      1.000000     370.000000   \n",
              "25%        1.728000      2.073600    1300.000000      3.500000    4590.000000   \n",
              "50%        9.261000     19.448100    3700.000000     11.000000    7270.000000   \n",
              "75%       27.000000     81.000000    5610.000000     17.000000    8180.000000   \n",
              "max      121.287375    600.372506  100000.000000     22.000000  100000.000000   \n",
              "\n",
              "               ind2  \n",
              "count  32523.000000  \n",
              "mean      12.945177  \n",
              "std        5.805535  \n",
              "min        2.000000  \n",
              "25%        8.000000  \n",
              "50%       14.000000  \n",
              "75%       18.000000  \n",
              "max       22.000000  \n",
              "\n",
              "[8 rows x 27 columns]"
            ],
            "text/html": [
              "\n",
              "  <div id=\"df-2a43ba6f-09f7-47a1-863f-1ec8f2b00cf8\">\n",
              "    <div class=\"colab-df-container\">\n",
              "      <div>\n",
              "<style scoped>\n",
              "    .dataframe tbody tr th:only-of-type {\n",
              "        vertical-align: middle;\n",
              "    }\n",
              "\n",
              "    .dataframe tbody tr th {\n",
              "        vertical-align: top;\n",
              "    }\n",
              "\n",
              "    .dataframe thead th {\n",
              "        text-align: right;\n",
              "    }\n",
              "</style>\n",
              "<table border=\"1\" class=\"dataframe\">\n",
              "  <thead>\n",
              "    <tr style=\"text-align: right;\">\n",
              "      <th></th>\n",
              "      <th>Unnamed: 0</th>\n",
              "      <th>wage</th>\n",
              "      <th>lnw</th>\n",
              "      <th>widowed</th>\n",
              "      <th>divorced</th>\n",
              "      <th>separated</th>\n",
              "      <th>nevermarried</th>\n",
              "      <th>married</th>\n",
              "      <th>weight</th>\n",
              "      <th>female</th>\n",
              "      <th>...</th>\n",
              "      <th>we</th>\n",
              "      <th>ne</th>\n",
              "      <th>exp1</th>\n",
              "      <th>exp2</th>\n",
              "      <th>exp3</th>\n",
              "      <th>exp4</th>\n",
              "      <th>occ</th>\n",
              "      <th>occ2</th>\n",
              "      <th>ind</th>\n",
              "      <th>ind2</th>\n",
              "    </tr>\n",
              "  </thead>\n",
              "  <tbody>\n",
              "    <tr>\n",
              "      <th>count</th>\n",
              "      <td>32523.000000</td>\n",
              "      <td>32523.000000</td>\n",
              "      <td>32523.000000</td>\n",
              "      <td>32523.000000</td>\n",
              "      <td>32523.000000</td>\n",
              "      <td>32523.000000</td>\n",
              "      <td>32523.000000</td>\n",
              "      <td>32523.000000</td>\n",
              "      <td>32523.000000</td>\n",
              "      <td>32523.000000</td>\n",
              "      <td>...</td>\n",
              "      <td>32523.000000</td>\n",
              "      <td>32523.000000</td>\n",
              "      <td>32523.000000</td>\n",
              "      <td>32523.000000</td>\n",
              "      <td>32523.000000</td>\n",
              "      <td>32523.000000</td>\n",
              "      <td>32523.000000</td>\n",
              "      <td>32523.000000</td>\n",
              "      <td>32523.000000</td>\n",
              "      <td>32523.000000</td>\n",
              "    </tr>\n",
              "    <tr>\n",
              "      <th>mean</th>\n",
              "      <td>16324.029671</td>\n",
              "      <td>29.139379</td>\n",
              "      <td>3.155199</td>\n",
              "      <td>0.012545</td>\n",
              "      <td>0.118070</td>\n",
              "      <td>0.015866</td>\n",
              "      <td>0.158349</td>\n",
              "      <td>0.695170</td>\n",
              "      <td>1662.696850</td>\n",
              "      <td>0.442333</td>\n",
              "      <td>...</td>\n",
              "      <td>0.217723</td>\n",
              "      <td>0.194047</td>\n",
              "      <td>21.210805</td>\n",
              "      <td>5.692379</td>\n",
              "      <td>17.194977</td>\n",
              "      <td>55.780077</td>\n",
              "      <td>4807.881807</td>\n",
              "      <td>11.191280</td>\n",
              "      <td>6424.262430</td>\n",
              "      <td>12.945177</td>\n",
              "    </tr>\n",
              "    <tr>\n",
              "      <th>std</th>\n",
              "      <td>9421.599484</td>\n",
              "      <td>28.219485</td>\n",
              "      <td>0.619090</td>\n",
              "      <td>0.111301</td>\n",
              "      <td>0.322696</td>\n",
              "      <td>0.124958</td>\n",
              "      <td>0.365074</td>\n",
              "      <td>0.460343</td>\n",
              "      <td>1068.982218</td>\n",
              "      <td>0.496671</td>\n",
              "      <td>...</td>\n",
              "      <td>0.412704</td>\n",
              "      <td>0.395472</td>\n",
              "      <td>10.924437</td>\n",
              "      <td>4.835041</td>\n",
              "      <td>19.333399</td>\n",
              "      <td>76.592007</td>\n",
              "      <td>10378.185428</td>\n",
              "      <td>7.176616</td>\n",
              "      <td>5018.066136</td>\n",
              "      <td>5.805535</td>\n",
              "    </tr>\n",
              "    <tr>\n",
              "      <th>min</th>\n",
              "      <td>1.000000</td>\n",
              "      <td>3.021978</td>\n",
              "      <td>1.105912</td>\n",
              "      <td>0.000000</td>\n",
              "      <td>0.000000</td>\n",
              "      <td>0.000000</td>\n",
              "      <td>0.000000</td>\n",
              "      <td>0.000000</td>\n",
              "      <td>52.510000</td>\n",
              "      <td>0.000000</td>\n",
              "      <td>...</td>\n",
              "      <td>0.000000</td>\n",
              "      <td>0.000000</td>\n",
              "      <td>0.000000</td>\n",
              "      <td>0.000000</td>\n",
              "      <td>0.000000</td>\n",
              "      <td>0.000000</td>\n",
              "      <td>10.000000</td>\n",
              "      <td>1.000000</td>\n",
              "      <td>370.000000</td>\n",
              "      <td>2.000000</td>\n",
              "    </tr>\n",
              "    <tr>\n",
              "      <th>25%</th>\n",
              "      <td>8167.500000</td>\n",
              "      <td>15.384615</td>\n",
              "      <td>2.733368</td>\n",
              "      <td>0.000000</td>\n",
              "      <td>0.000000</td>\n",
              "      <td>0.000000</td>\n",
              "      <td>0.000000</td>\n",
              "      <td>0.000000</td>\n",
              "      <td>735.970000</td>\n",
              "      <td>0.000000</td>\n",
              "      <td>...</td>\n",
              "      <td>0.000000</td>\n",
              "      <td>0.000000</td>\n",
              "      <td>12.000000</td>\n",
              "      <td>1.440000</td>\n",
              "      <td>1.728000</td>\n",
              "      <td>2.073600</td>\n",
              "      <td>1300.000000</td>\n",
              "      <td>3.500000</td>\n",
              "      <td>4590.000000</td>\n",
              "      <td>8.000000</td>\n",
              "    </tr>\n",
              "    <tr>\n",
              "      <th>50%</th>\n",
              "      <td>16326.000000</td>\n",
              "      <td>23.076923</td>\n",
              "      <td>3.138833</td>\n",
              "      <td>0.000000</td>\n",
              "      <td>0.000000</td>\n",
              "      <td>0.000000</td>\n",
              "      <td>0.000000</td>\n",
              "      <td>1.000000</td>\n",
              "      <td>1596.120000</td>\n",
              "      <td>0.000000</td>\n",
              "      <td>...</td>\n",
              "      <td>0.000000</td>\n",
              "      <td>0.000000</td>\n",
              "      <td>21.000000</td>\n",
              "      <td>4.410000</td>\n",
              "      <td>9.261000</td>\n",
              "      <td>19.448100</td>\n",
              "      <td>3700.000000</td>\n",
              "      <td>11.000000</td>\n",
              "      <td>7270.000000</td>\n",
              "      <td>14.000000</td>\n",
              "    </tr>\n",
              "    <tr>\n",
              "      <th>75%</th>\n",
              "      <td>24479.500000</td>\n",
              "      <td>34.446211</td>\n",
              "      <td>3.539399</td>\n",
              "      <td>0.000000</td>\n",
              "      <td>0.000000</td>\n",
              "      <td>0.000000</td>\n",
              "      <td>0.000000</td>\n",
              "      <td>1.000000</td>\n",
              "      <td>2269.880000</td>\n",
              "      <td>1.000000</td>\n",
              "      <td>...</td>\n",
              "      <td>0.000000</td>\n",
              "      <td>0.000000</td>\n",
              "      <td>30.000000</td>\n",
              "      <td>9.000000</td>\n",
              "      <td>27.000000</td>\n",
              "      <td>81.000000</td>\n",
              "      <td>5610.000000</td>\n",
              "      <td>17.000000</td>\n",
              "      <td>8180.000000</td>\n",
              "      <td>18.000000</td>\n",
              "    </tr>\n",
              "    <tr>\n",
              "      <th>max</th>\n",
              "      <td>32643.000000</td>\n",
              "      <td>615.384135</td>\n",
              "      <td>6.422247</td>\n",
              "      <td>1.000000</td>\n",
              "      <td>1.000000</td>\n",
              "      <td>1.000000</td>\n",
              "      <td>1.000000</td>\n",
              "      <td>1.000000</td>\n",
              "      <td>10500.700000</td>\n",
              "      <td>1.000000</td>\n",
              "      <td>...</td>\n",
              "      <td>1.000000</td>\n",
              "      <td>1.000000</td>\n",
              "      <td>49.500000</td>\n",
              "      <td>24.502500</td>\n",
              "      <td>121.287375</td>\n",
              "      <td>600.372506</td>\n",
              "      <td>100000.000000</td>\n",
              "      <td>22.000000</td>\n",
              "      <td>100000.000000</td>\n",
              "      <td>22.000000</td>\n",
              "    </tr>\n",
              "  </tbody>\n",
              "</table>\n",
              "<p>8 rows × 27 columns</p>\n",
              "</div>\n",
              "      <button class=\"colab-df-convert\" onclick=\"convertToInteractive('df-2a43ba6f-09f7-47a1-863f-1ec8f2b00cf8')\"\n",
              "              title=\"Convert this dataframe to an interactive table.\"\n",
              "              style=\"display:none;\">\n",
              "        \n",
              "  <svg xmlns=\"http://www.w3.org/2000/svg\" height=\"24px\"viewBox=\"0 0 24 24\"\n",
              "       width=\"24px\">\n",
              "    <path d=\"M0 0h24v24H0V0z\" fill=\"none\"/>\n",
              "    <path d=\"M18.56 5.44l.94 2.06.94-2.06 2.06-.94-2.06-.94-.94-2.06-.94 2.06-2.06.94zm-11 1L8.5 8.5l.94-2.06 2.06-.94-2.06-.94L8.5 2.5l-.94 2.06-2.06.94zm10 10l.94 2.06.94-2.06 2.06-.94-2.06-.94-.94-2.06-.94 2.06-2.06.94z\"/><path d=\"M17.41 7.96l-1.37-1.37c-.4-.4-.92-.59-1.43-.59-.52 0-1.04.2-1.43.59L10.3 9.45l-7.72 7.72c-.78.78-.78 2.05 0 2.83L4 21.41c.39.39.9.59 1.41.59.51 0 1.02-.2 1.41-.59l7.78-7.78 2.81-2.81c.8-.78.8-2.07 0-2.86zM5.41 20L4 18.59l7.72-7.72 1.47 1.35L5.41 20z\"/>\n",
              "  </svg>\n",
              "      </button>\n",
              "      \n",
              "  <style>\n",
              "    .colab-df-container {\n",
              "      display:flex;\n",
              "      flex-wrap:wrap;\n",
              "      gap: 12px;\n",
              "    }\n",
              "\n",
              "    .colab-df-convert {\n",
              "      background-color: #E8F0FE;\n",
              "      border: none;\n",
              "      border-radius: 50%;\n",
              "      cursor: pointer;\n",
              "      display: none;\n",
              "      fill: #1967D2;\n",
              "      height: 32px;\n",
              "      padding: 0 0 0 0;\n",
              "      width: 32px;\n",
              "    }\n",
              "\n",
              "    .colab-df-convert:hover {\n",
              "      background-color: #E2EBFA;\n",
              "      box-shadow: 0px 1px 2px rgba(60, 64, 67, 0.3), 0px 1px 3px 1px rgba(60, 64, 67, 0.15);\n",
              "      fill: #174EA6;\n",
              "    }\n",
              "\n",
              "    [theme=dark] .colab-df-convert {\n",
              "      background-color: #3B4455;\n",
              "      fill: #D2E3FC;\n",
              "    }\n",
              "\n",
              "    [theme=dark] .colab-df-convert:hover {\n",
              "      background-color: #434B5C;\n",
              "      box-shadow: 0px 1px 3px 1px rgba(0, 0, 0, 0.15);\n",
              "      filter: drop-shadow(0px 1px 2px rgba(0, 0, 0, 0.3));\n",
              "      fill: #FFFFFF;\n",
              "    }\n",
              "  </style>\n",
              "\n",
              "      <script>\n",
              "        const buttonEl =\n",
              "          document.querySelector('#df-2a43ba6f-09f7-47a1-863f-1ec8f2b00cf8 button.colab-df-convert');\n",
              "        buttonEl.style.display =\n",
              "          google.colab.kernel.accessAllowed ? 'block' : 'none';\n",
              "\n",
              "        async function convertToInteractive(key) {\n",
              "          const element = document.querySelector('#df-2a43ba6f-09f7-47a1-863f-1ec8f2b00cf8');\n",
              "          const dataTable =\n",
              "            await google.colab.kernel.invokeFunction('convertToInteractive',\n",
              "                                                     [key], {});\n",
              "          if (!dataTable) return;\n",
              "\n",
              "          const docLinkHtml = 'Like what you see? Visit the ' +\n",
              "            '<a target=\"_blank\" href=https://colab.research.google.com/notebooks/data_table.ipynb>data table notebook</a>'\n",
              "            + ' to learn more about interactive tables.';\n",
              "          element.innerHTML = '';\n",
              "          dataTable['output_type'] = 'display_data';\n",
              "          await google.colab.output.renderOutput(dataTable, element);\n",
              "          const docLink = document.createElement('div');\n",
              "          docLink.innerHTML = docLinkHtml;\n",
              "          element.appendChild(docLink);\n",
              "        }\n",
              "      </script>\n",
              "    </div>\n",
              "  </div>\n",
              "  "
            ]
          },
          "metadata": {},
          "execution_count": 7
        }
      ]
    },
    {
      "cell_type": "code",
      "source": [],
      "metadata": {
        "id": "S6CmsIzJGTYb"
      },
      "execution_count": null,
      "outputs": []
    },
    {
      "cell_type": "code",
      "source": [
        "#Make visualization"
      ],
      "metadata": {
        "id": "LXrNw9NgFNZr"
      },
      "execution_count": null,
      "outputs": []
    },
    {
      "cell_type": "code",
      "source": [
        "import matplotlib.pyplot as plt \n",
        "import seaborn as sns\n",
        "import numpy as np\n",
        "sub_df =  data[[\"wage\", \"weight\",\"married\",\"female\"]]\n",
        "\n",
        "corr = sub_df.corr()\n",
        "fig, ax = plt.subplots(figsize=(10, 8))\n",
        "colormap = sns.diverging_palette(220, 10, as_cmap = True)\n",
        "dropvals = np.zeros_like(corr)\n",
        "dropvals[np.triu_indices_from(dropvals)] = True\n",
        "sns.heatmap(corr, cmap = colormap, linewidths = .5, annot = True, fmt = \".2f\", mask = dropvals)\n",
        "fig.suptitle('Correlations between Weight, Marital Status, Gender, and Wage', fontsize=16)\n",
        "plt.show()\n",
        "\n",
        "\n",
        "\n"
      ],
      "metadata": {
        "colab": {
          "base_uri": "https://localhost:8080/",
          "height": 540
        },
        "id": "kbASjC4xFUUc",
        "outputId": "d3576095-7086-4e26-8985-f99e1d96255d"
      },
      "execution_count": 15,
      "outputs": [
        {
          "output_type": "display_data",
          "data": {
            "text/plain": [
              "<Figure size 720x576 with 2 Axes>"
            ],
            "image/png": "[encoded data removed]"
          },
          "metadata": {
            "needs_background": "light"
          }
        }
      ]
    },
    {
      "cell_type": "code",
      "source": [
        "#Write an observation of data "
      ],
      "metadata": {
        "id": "sn0MZUYOFPFv"
      },
      "execution_count": null,
      "outputs": []
    },
    {
      "cell_type": "markdown",
      "source": [
        "Females are correlated with lower wages"
      ],
      "metadata": {
        "id": "N7AvUcvXJde1"
      }
    },
    {
      "cell_type": "code",
      "source": [],
      "metadata": {
        "id": "S4ogRCTwJvGL"
      },
      "execution_count": null,
      "outputs": []
    }
  ]
}